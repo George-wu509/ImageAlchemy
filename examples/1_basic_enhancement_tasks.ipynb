{
 "cells": [
  {
   "cell_type": "code",
   "execution_count": null,
   "id": "49ca55cd",
   "metadata": {},
   "outputs": [],
   "source": [
    "# 1. 安裝函式庫\n",
    "# 從您的 GitHub 儲存庫安裝（請將 [your-username] 替換為您的使用者名稱）\n",
    "!pip install git+https://github.com/[your-username]/ImageAlchemy.git"
   ]
  },
  {
   "cell_type": "code",
   "execution_count": null,
   "id": "9f52595a",
   "metadata": {},
   "outputs": [],
   "source": [
    "# 2. 匯入與設定\n",
    "from image_alchemy import ImageAlchemy\n",
    "from image_alchemy.utils.visualization import compare_images, plot_histogram_comparison\n",
    "from PIL import Image\n",
    "import requests\n",
    "from io import BytesIO\n",
    "import torch\n",
    "\n",
    "# 檢查 GPU，Colab 中應為 'cuda'\n",
    "device = 'cuda' if torch.cuda.is_available() else 'cpu'\n",
    "print(f'使用裝置: {device}')\n",
    "\n",
    "# 初始化引擎 (模型權重將在首次執行時下載)\n",
    "engine = ImageAlchemy(device=device)"
   ]
  },
  {
   "cell_type": "code",
   "execution_count": null,
   "id": "23f1bc4f",
   "metadata": {},
   "outputs": [],
   "source": [
    "# 3. 載入範例圖片\n",
    "# 我們將使用一張稍微模糊的黑白照片來進行操作。\n",
    "url = 'https://upload.wikimedia.org/wikipedia/commons/thumb/4/45/A_blurry_image_of_a_person.jpg/800px-A_blurry_image_of_a_person.jpg'\n",
    "response = requests.get(url)\n",
    "original_image = Image.open(BytesIO(response.content)).convert(\"RGB\")\n",
    "\n",
    "print(\"原始圖片:\")\n",
    "display(original_image.resize((400, 400)))"
   ]
  },
  {
   "cell_type": "code",
   "execution_count": null,
   "id": "84a96aae",
   "metadata": {},
   "outputs": [],
   "source": [
    "print(\"正在執行銳化功能...\")\n",
    "sharpened_image = engine.enhancement.sharpen(\n",
    "    image=original_image,\n",
    "    strength=0.45\n",
    ")\n",
    "\n",
    "compare_images(original_image, sharpened_image, before_text=\"原始模糊圖片\", after_text=\"銳化後\")\n",
    "print(\"銳化完成。\")"
   ]
  },
  {
   "cell_type": "code",
   "execution_count": null,
   "id": "76ceec71",
   "metadata": {},
   "outputs": [],
   "source": [
    "print(\"正在執行上色功能...\")\n",
    "colorized_image = engine.enhancement.colorize(\n",
    "    image=sharpened_image,\n",
    "    prompt=\"a beautiful portrait of a person, vibrant colors, detailed, cinematic lighting\"\n",
    ")\n",
    "\n",
    "compare_images(sharpened_image, colorized_image, before_text=\"銳化後 (黑白)\", after_text=\"上色後\")\n",
    "plot_histogram_comparison(sharpened_image, colorized_image)\n",
    "print(\"上色完成。\")"
   ]
  },
  {
   "cell_type": "code",
   "execution_count": null,
   "id": "817982d5",
   "metadata": {},
   "outputs": [],
   "source": [
    "print(\"正在執行超解析度功能...\")\n",
    "sr_image = engine.enhancement.super_resolution(\n",
    "    image=colorized_image,\n",
    "    scale=2,\n",
    "    prompt=\"ultra-detailed, 8k, photorealistic\"\n",
    ")\n",
    "\n",
    "print(f\"原始尺寸: {colorized_image.size}\")\n",
    "print(f\"超解析度後尺寸: {sr_image.size}\")\n",
    "\n",
    "compare_images(colorized_image, sr_image, before_text=\"原始彩色圖片\", after_text=\"2倍超解析度\")\n",
    "\n",
    "# 儲存並提供下載連結\n",
    "sr_image.save(\"final_enhanced_image.jpg\")\n",
    "print(\"最終結果已儲存至 final_enhanced_image.jpg\")"
   ]
  }
 ],
 "metadata": {
  "language_info": {
   "name": "python"
  }
 },
 "nbformat": 4,
 "nbformat_minor": 5
}
