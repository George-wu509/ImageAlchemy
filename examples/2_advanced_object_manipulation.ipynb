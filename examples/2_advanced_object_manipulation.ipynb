{
 "cells": [
  {
   "cell_type": "code",
   "execution_count": null,
   "id": "f4b9c7be",
   "metadata": {},
   "outputs": [],
   "source": [
    "# 1. 安裝函式庫\n",
    "!pip install git+https://github.com/[your-username]/ImageAlchemy.git"
   ]
  },
  {
   "cell_type": "code",
   "execution_count": null,
   "id": "77cbd0c2",
   "metadata": {},
   "outputs": [],
   "source": [
    "# 2. 匯入與設定\n",
    "from image_alchemy import ImageAlchemy\n",
    "from image_alchemy.utils.visualization import compare_images\n",
    "from image_alchemy.utils.image_utils import combine_image_and_mask\n",
    "from image_alchemy.core.pipelines import run_sam_segmentation\n",
    "from PIL import Image\n",
    "import requests\n",
    "from io import BytesIO\n",
    "import torch\n",
    "\n",
    "device = 'cuda' if torch.cuda.is_available() else 'cpu'\n",
    "print(f'使用裝置: {device}')\n",
    "engine = ImageAlchemy(device=device)"
   ]
  },
  {
   "cell_type": "code",
   "execution_count": null,
   "id": "2b29d7ec",
   "metadata": {},
   "outputs": [],
   "source": [
    "# 3. 載入範例圖片\n",
    "# 我們將使用一張帶有清晰物件的圖片，以便進行操作。\n",
    "url = 'https://huggingface.co/datasets/huggingface/documentation-images/resolve/main/diffusers/cat-dog.png'\n",
    "response = requests.get(url)\n",
    "original_image = Image.open(BytesIO(response.content)).convert(\"RGB\")\n",
    "\n",
    "print(\"原始圖片已載入。\")\n",
    "display(original_image)"
   ]
  },
  {
   "cell_type": "code",
   "execution_count": null,
   "id": "627ab952",
   "metadata": {},
   "outputs": [],
   "source": [
    "# 首先，定義小狗周圍的邊界框\n",
    "dog_bbox = [350, 20, 650, 350]\n",
    "\n",
    "# (可選步驟) 視覺化 SAM 從邊界框生成的精確遮罩\n",
    "print(\"正在使用 SAM 從邊界框生成精確遮罩...\")\n",
    "dog_mask = run_sam_segmentation(engine.model_loader, original_image, input_box=dog_bbox)\n",
    "print(\"視覺化生成的遮罩疊加在原始圖片上:\")\n",
    "display(combine_image_and_mask(original_image, dog_mask))"
   ]
  },
  {
   "cell_type": "code",
   "execution_count": null,
   "id": "6355593a",
   "metadata": {},
   "outputs": [],
   "source": [
    "# 現在，直接調用函式庫的主要功能來移除物件\n",
    "print(\"\\n正在使用 Stable Diffusion Inpainting 移除物件...\")\n",
    "removed_image = engine.manipulation.remove_object(\n",
    "    image=original_image,\n",
    "    mask=dog_bbox, # 我們可以直接傳遞邊界框\n",
    "    prompt=\"a cat sitting on a rug, photorealistic, high quality\"\n",
    ")\n",
    "\n",
    "compare_images(original_image, removed_image, after_text=\"移除小狗後\")\n",
    "print(\"物件移除完成。\")"
   ]
  },
  {
   "cell_type": "code",
   "execution_count": null,
   "id": "35e1d82b",
   "metadata": {},
   "outputs": [],
   "source": [
    "# 定義貓的邊界框\n",
    "cat_bbox = [20, 20, 350, 350]\n",
    "\n",
    "print(\"正在生成新背景...\")\n",
    "generated_bg_image = engine.generative.generate_background(\n",
    "    image=original_image,\n",
    "    foreground_mask=cat_bbox,\n",
    "    background_prompt=\"a cat sitting on a sandy beach, ocean waves in the background, sunny day\"\n",
    ")\n",
    "\n",
    "compare_images(original_image, generated_bg_image, after_text=\"新背景：沙灘\")\n",
    "\n",
    "# 儲存並提供下載連結\n",
    "generated_bg_image.save(\"final_manipulated_image.jpg\")\n",
    "print(\"背景生成完成，結果已儲存至 final_manipulated_image.jpg\")"
   ]
  }
 ],
 "metadata": {
  "language_info": {
   "name": "python"
  }
 },
 "nbformat": 4,
 "nbformat_minor": 5
}
